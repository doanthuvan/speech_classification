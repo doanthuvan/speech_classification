{
 "cells": [
  {
   "cell_type": "code",
   "execution_count": 115,
   "metadata": {},
   "outputs": [],
   "source": [
    "import librosa\n",
    "import numpy as np\n",
    "from preprocess import extract_features\n",
    "import keras\n",
    "from keras import Sequential\n",
    "from keras.layers import Conv2D, MaxPooling2D, Flatten, Dense"
   ]
  },
  {
   "cell_type": "markdown",
   "metadata": {},
   "source": [
    "## Data Preparation"
   ]
  },
  {
   "cell_type": "code",
   "execution_count": 110,
   "metadata": {},
   "outputs": [],
   "source": [
    "import glob\n",
    "from os.path import dirname, basename"
   ]
  },
  {
   "cell_type": "code",
   "execution_count": 66,
   "metadata": {},
   "outputs": [],
   "source": [
    "from sklearn.preprocessing import OneHotEncoder, LabelEncoder"
   ]
  },
  {
   "cell_type": "code",
   "execution_count": 123,
   "metadata": {},
   "outputs": [],
   "source": [
    "class CategoryEncoder:\n",
    "    def __init__(self):\n",
    "        self.label_encoder = LabelEncoder()\n",
    "        self.one_hot_encoder = OneHotEncoder()\n",
    "    \n",
    "    def fit_transform(self, y):\n",
    "        tmp = y\n",
    "        tmp = self.label_encoder.fit_transform(tmp)\n",
    "        tmp = tmp.reshape(len(tmp), 1)\n",
    "        tmp = self.one_hot_encoder.fit_transform(tmp)\n",
    "        return tmp\n",
    "    \n",
    "    def reverse_transform(y):\n",
    "        return "
   ]
  },
  {
   "cell_type": "code",
   "execution_count": 170,
   "metadata": {},
   "outputs": [],
   "source": [
    "files = glob.glob(\"data/train_100/*/*\")\n",
    "labels = []\n",
    "is_first = False\n",
    "for file in files:\n",
    "    label = basename(dirname(file))\n",
    "    features = extract_features(file)\n",
    "    n = features.shape[0]\n",
    "    labels.extend(n * [label])\n",
    "    if not is_first:\n",
    "        x_train = features\n",
    "        is_first = True\n",
    "    else:\n",
    "        x_train = np.concatenate((x_train, features), axis=0)"
   ]
  },
  {
   "cell_type": "code",
   "execution_count": 171,
   "metadata": {},
   "outputs": [],
   "source": [
    "encoder = CategoryEncoder()\n",
    "y_train = encoder.fit_transform(labels)"
   ]
  },
  {
   "cell_type": "code",
   "execution_count": 174,
   "metadata": {},
   "outputs": [
    {
     "data": {
      "text/plain": [
       "(80, 2)"
      ]
     },
     "execution_count": 174,
     "metadata": {},
     "output_type": "execute_result"
    }
   ],
   "source": [
    "y_train.shape"
   ]
  },
  {
   "cell_type": "code",
   "execution_count": 175,
   "metadata": {},
   "outputs": [
    {
     "data": {
      "text/plain": [
       "(80, 60, 41, 2)"
      ]
     },
     "execution_count": 175,
     "metadata": {},
     "output_type": "execute_result"
    }
   ],
   "source": [
    "x_train.shape"
   ]
  },
  {
   "cell_type": "markdown",
   "metadata": {},
   "source": [
    "## Model"
   ]
  },
  {
   "cell_type": "code",
   "execution_count": 176,
   "metadata": {},
   "outputs": [],
   "source": [
    "model = Sequential()\n",
    "input_shape=(60,41,2)\n",
    "num_classes = 2\n",
    "model.add(Conv2D(32, kernel_size=(5, 5), strides=(1, 1),\n",
    "                 activation='relu',\n",
    "                 input_shape=(60, 41, 2)))\n",
    "model.add(MaxPooling2D(pool_size=(2, 2), strides=(2, 2)))\n",
    "model.add(Conv2D(64, (5, 5), activation='relu'))\n",
    "model.add(MaxPooling2D(pool_size=(2, 2)))\n",
    "model.add(Flatten())\n",
    "model.add(Dense(500, activation='relu'))\n",
    "model.add(Dense(num_classes, activation='softmax'))\n",
    "\n",
    "model.compile(loss=keras.losses.categorical_crossentropy,\n",
    "              optimizer=keras.optimizers.SGD(lr=0.01),\n",
    "              metrics=['accuracy'])"
   ]
  },
  {
   "cell_type": "code",
   "execution_count": 178,
   "metadata": {},
   "outputs": [
    {
     "name": "stdout",
     "output_type": "stream",
     "text": [
      "Train on 80 samples, validate on 2 samples\n",
      "Epoch 1/100\n",
      "80/80 [==============================] - 0s 5ms/step - loss: 5.0369 - acc: 0.6875 - val_loss: 8.0590 - val_acc: 0.5000\n",
      "Epoch 2/100\n",
      "80/80 [==============================] - 0s 5ms/step - loss: 5.0369 - acc: 0.6875 - val_loss: 8.0590 - val_acc: 0.5000\n",
      "Epoch 3/100\n",
      "80/80 [==============================] - 0s 5ms/step - loss: 5.0369 - acc: 0.6875 - val_loss: 8.0590 - val_acc: 0.5000\n",
      "Epoch 4/100\n",
      "80/80 [==============================] - 0s 5ms/step - loss: 5.0369 - acc: 0.6875 - val_loss: 8.0590 - val_acc: 0.5000\n",
      "Epoch 5/100\n",
      "80/80 [==============================] - 0s 5ms/step - loss: 5.0369 - acc: 0.6875 - val_loss: 8.0590 - val_acc: 0.5000\n",
      "Epoch 6/100\n",
      "80/80 [==============================] - 0s 5ms/step - loss: 5.0369 - acc: 0.6875 - val_loss: 8.0590 - val_acc: 0.5000\n",
      "Epoch 7/100\n",
      "80/80 [==============================] - 0s 5ms/step - loss: 5.0369 - acc: 0.6875 - val_loss: 8.0590 - val_acc: 0.5000\n",
      "Epoch 8/100\n",
      "80/80 [==============================] - 0s 5ms/step - loss: 5.0369 - acc: 0.6875 - val_loss: 8.0590 - val_acc: 0.5000\n",
      "Epoch 9/100\n",
      "80/80 [==============================] - 0s 6ms/step - loss: 5.0369 - acc: 0.6875 - val_loss: 8.0590 - val_acc: 0.5000\n",
      "Epoch 10/100\n",
      "80/80 [==============================] - 0s 5ms/step - loss: 5.0369 - acc: 0.6875 - val_loss: 8.0590 - val_acc: 0.5000\n",
      "Epoch 11/100\n",
      "80/80 [==============================] - 0s 5ms/step - loss: 5.0369 - acc: 0.6875 - val_loss: 8.0590 - val_acc: 0.5000\n",
      "Epoch 12/100\n",
      "80/80 [==============================] - 1s 6ms/step - loss: 5.0369 - acc: 0.6875 - val_loss: 8.0590 - val_acc: 0.5000\n",
      "Epoch 13/100\n",
      "80/80 [==============================] - 0s 5ms/step - loss: 5.0369 - acc: 0.6875 - val_loss: 8.0590 - val_acc: 0.5000\n",
      "Epoch 14/100\n",
      "80/80 [==============================] - 0s 5ms/step - loss: 5.0369 - acc: 0.6875 - val_loss: 8.0590 - val_acc: 0.5000\n",
      "Epoch 15/100\n",
      "80/80 [==============================] - 0s 5ms/step - loss: 5.0369 - acc: 0.6875 - val_loss: 8.0590 - val_acc: 0.5000\n",
      "Epoch 16/100\n",
      "80/80 [==============================] - 1s 7ms/step - loss: 5.0369 - acc: 0.6875 - val_loss: 8.0590 - val_acc: 0.5000\n",
      "Epoch 17/100\n",
      "80/80 [==============================] - 1s 7ms/step - loss: 5.0369 - acc: 0.6875 - val_loss: 8.0590 - val_acc: 0.5000\n",
      "Epoch 18/100\n",
      "80/80 [==============================] - 0s 5ms/step - loss: 5.0369 - acc: 0.6875 - val_loss: 8.0590 - val_acc: 0.5000\n",
      "Epoch 19/100\n",
      "80/80 [==============================] - 0s 5ms/step - loss: 5.0369 - acc: 0.6875 - val_loss: 8.0590 - val_acc: 0.5000\n",
      "Epoch 20/100\n",
      "80/80 [==============================] - 0s 5ms/step - loss: 5.0369 - acc: 0.6875 - val_loss: 8.0590 - val_acc: 0.5000\n",
      "Epoch 21/100\n",
      "80/80 [==============================] - 0s 6ms/step - loss: 5.0369 - acc: 0.6875 - val_loss: 8.0590 - val_acc: 0.5000\n",
      "Epoch 22/100\n",
      "80/80 [==============================] - 0s 5ms/step - loss: 5.0369 - acc: 0.6875 - val_loss: 8.0590 - val_acc: 0.5000\n",
      "Epoch 23/100\n",
      "80/80 [==============================] - 0s 5ms/step - loss: 5.0369 - acc: 0.6875 - val_loss: 8.0590 - val_acc: 0.5000\n",
      "Epoch 24/100\n",
      "80/80 [==============================] - 0s 5ms/step - loss: 5.0369 - acc: 0.6875 - val_loss: 8.0590 - val_acc: 0.5000\n",
      "Epoch 25/100\n",
      "80/80 [==============================] - 0s 5ms/step - loss: 5.0369 - acc: 0.6875 - val_loss: 8.0590 - val_acc: 0.5000\n",
      "Epoch 26/100\n",
      "80/80 [==============================] - 0s 5ms/step - loss: 5.0369 - acc: 0.6875 - val_loss: 8.0590 - val_acc: 0.5000\n",
      "Epoch 27/100\n",
      "80/80 [==============================] - 0s 5ms/step - loss: 5.0369 - acc: 0.6875 - val_loss: 8.0590 - val_acc: 0.5000\n",
      "Epoch 28/100\n",
      "80/80 [==============================] - 0s 6ms/step - loss: 5.0369 - acc: 0.6875 - val_loss: 8.0590 - val_acc: 0.5000\n",
      "Epoch 29/100\n",
      "80/80 [==============================] - 0s 6ms/step - loss: 5.0369 - acc: 0.6875 - val_loss: 8.0590 - val_acc: 0.5000\n",
      "Epoch 30/100\n",
      "80/80 [==============================] - 0s 5ms/step - loss: 5.0369 - acc: 0.6875 - val_loss: 8.0590 - val_acc: 0.5000\n",
      "Epoch 31/100\n",
      "80/80 [==============================] - 0s 5ms/step - loss: 5.0369 - acc: 0.6875 - val_loss: 8.0590 - val_acc: 0.5000\n",
      "Epoch 32/100\n",
      "80/80 [==============================] - 0s 5ms/step - loss: 5.0369 - acc: 0.6875 - val_loss: 8.0590 - val_acc: 0.5000\n",
      "Epoch 33/100\n",
      "80/80 [==============================] - 0s 5ms/step - loss: 5.0369 - acc: 0.6875 - val_loss: 8.0590 - val_acc: 0.5000\n",
      "Epoch 34/100\n",
      "80/80 [==============================] - 0s 5ms/step - loss: 5.0369 - acc: 0.6875 - val_loss: 8.0590 - val_acc: 0.5000\n",
      "Epoch 35/100\n",
      "80/80 [==============================] - 0s 5ms/step - loss: 5.0369 - acc: 0.6875 - val_loss: 8.0590 - val_acc: 0.5000\n",
      "Epoch 36/100\n",
      "80/80 [==============================] - 0s 5ms/step - loss: 5.0369 - acc: 0.6875 - val_loss: 8.0590 - val_acc: 0.5000\n",
      "Epoch 37/100\n",
      "80/80 [==============================] - 0s 5ms/step - loss: 5.0369 - acc: 0.6875 - val_loss: 8.0590 - val_acc: 0.5000\n",
      "Epoch 38/100\n",
      "80/80 [==============================] - 0s 5ms/step - loss: 5.0369 - acc: 0.6875 - val_loss: 8.0590 - val_acc: 0.5000\n",
      "Epoch 39/100\n",
      "80/80 [==============================] - 0s 5ms/step - loss: 5.0369 - acc: 0.6875 - val_loss: 8.0590 - val_acc: 0.5000\n",
      "Epoch 40/100\n",
      "80/80 [==============================] - 0s 5ms/step - loss: 5.0369 - acc: 0.6875 - val_loss: 8.0590 - val_acc: 0.5000\n",
      "Epoch 41/100\n",
      "80/80 [==============================] - 1s 8ms/step - loss: 5.0369 - acc: 0.6875 - val_loss: 8.0590 - val_acc: 0.5000\n",
      "Epoch 42/100\n",
      "80/80 [==============================] - 1s 7ms/step - loss: 5.0369 - acc: 0.6875 - val_loss: 8.0590 - val_acc: 0.5000\n",
      "Epoch 43/100\n",
      "80/80 [==============================] - 0s 5ms/step - loss: 5.0369 - acc: 0.6875 - val_loss: 8.0590 - val_acc: 0.5000\n",
      "Epoch 44/100\n",
      "80/80 [==============================] - 1s 6ms/step - loss: 5.0369 - acc: 0.6875 - val_loss: 8.0590 - val_acc: 0.5000\n",
      "Epoch 45/100\n",
      "80/80 [==============================] - 0s 5ms/step - loss: 5.0369 - acc: 0.6875 - val_loss: 8.0590 - val_acc: 0.5000\n",
      "Epoch 46/100\n",
      "80/80 [==============================] - 0s 6ms/step - loss: 5.0369 - acc: 0.6875 - val_loss: 8.0590 - val_acc: 0.5000\n",
      "Epoch 47/100\n",
      "80/80 [==============================] - 0s 6ms/step - loss: 5.0369 - acc: 0.6875 - val_loss: 8.0590 - val_acc: 0.5000\n",
      "Epoch 48/100\n",
      "80/80 [==============================] - 0s 6ms/step - loss: 5.0369 - acc: 0.6875 - val_loss: 8.0590 - val_acc: 0.5000\n",
      "Epoch 49/100\n",
      "80/80 [==============================] - 0s 5ms/step - loss: 5.0369 - acc: 0.6875 - val_loss: 8.0590 - val_acc: 0.5000\n",
      "Epoch 50/100\n",
      "80/80 [==============================] - 0s 5ms/step - loss: 5.0369 - acc: 0.6875 - val_loss: 8.0590 - val_acc: 0.5000\n",
      "Epoch 51/100\n",
      "80/80 [==============================] - 0s 5ms/step - loss: 5.0369 - acc: 0.6875 - val_loss: 8.0590 - val_acc: 0.5000\n",
      "Epoch 52/100\n",
      "80/80 [==============================] - 0s 5ms/step - loss: 5.0369 - acc: 0.6875 - val_loss: 8.0590 - val_acc: 0.5000\n",
      "Epoch 53/100\n",
      "80/80 [==============================] - 0s 5ms/step - loss: 5.0369 - acc: 0.6875 - val_loss: 8.0590 - val_acc: 0.5000\n",
      "Epoch 54/100\n",
      "80/80 [==============================] - 0s 5ms/step - loss: 5.0369 - acc: 0.6875 - val_loss: 8.0590 - val_acc: 0.5000\n",
      "Epoch 55/100\n",
      "80/80 [==============================] - 0s 5ms/step - loss: 5.0369 - acc: 0.6875 - val_loss: 8.0590 - val_acc: 0.5000\n",
      "Epoch 56/100\n",
      "80/80 [==============================] - 0s 5ms/step - loss: 5.0369 - acc: 0.6875 - val_loss: 8.0590 - val_acc: 0.5000\n",
      "Epoch 57/100\n",
      "80/80 [==============================] - 0s 6ms/step - loss: 5.0369 - acc: 0.6875 - val_loss: 8.0590 - val_acc: 0.5000\n",
      "Epoch 58/100\n",
      "80/80 [==============================] - 0s 5ms/step - loss: 5.0369 - acc: 0.6875 - val_loss: 8.0590 - val_acc: 0.5000\n",
      "Epoch 59/100\n",
      "80/80 [==============================] - 0s 5ms/step - loss: 5.0369 - acc: 0.6875 - val_loss: 8.0590 - val_acc: 0.5000\n",
      "Epoch 60/100\n",
      "80/80 [==============================] - 0s 5ms/step - loss: 5.0369 - acc: 0.6875 - val_loss: 8.0590 - val_acc: 0.5000\n",
      "Epoch 61/100\n",
      "80/80 [==============================] - 0s 5ms/step - loss: 5.0369 - acc: 0.6875 - val_loss: 8.0590 - val_acc: 0.5000\n",
      "Epoch 62/100\n",
      "80/80 [==============================] - 0s 6ms/step - loss: 5.0369 - acc: 0.6875 - val_loss: 8.0590 - val_acc: 0.5000\n"
     ]
    },
    {
     "name": "stdout",
     "output_type": "stream",
     "text": [
      "Epoch 63/100\n",
      "80/80 [==============================] - 1s 7ms/step - loss: 5.0369 - acc: 0.6875 - val_loss: 8.0590 - val_acc: 0.5000\n",
      "Epoch 64/100\n",
      "80/80 [==============================] - 0s 6ms/step - loss: 5.0369 - acc: 0.6875 - val_loss: 8.0590 - val_acc: 0.5000\n",
      "Epoch 65/100\n",
      "80/80 [==============================] - 0s 5ms/step - loss: 5.0369 - acc: 0.6875 - val_loss: 8.0590 - val_acc: 0.5000\n",
      "Epoch 66/100\n",
      "80/80 [==============================] - 0s 6ms/step - loss: 5.0369 - acc: 0.6875 - val_loss: 8.0590 - val_acc: 0.5000\n",
      "Epoch 67/100\n",
      "80/80 [==============================] - 0s 5ms/step - loss: 5.0369 - acc: 0.6875 - val_loss: 8.0590 - val_acc: 0.5000\n",
      "Epoch 68/100\n",
      "80/80 [==============================] - 0s 5ms/step - loss: 5.0369 - acc: 0.6875 - val_loss: 8.0590 - val_acc: 0.5000\n",
      "Epoch 69/100\n",
      "80/80 [==============================] - 0s 5ms/step - loss: 5.0369 - acc: 0.6875 - val_loss: 8.0590 - val_acc: 0.5000\n",
      "Epoch 70/100\n",
      "80/80 [==============================] - 0s 5ms/step - loss: 5.0369 - acc: 0.6875 - val_loss: 8.0590 - val_acc: 0.5000\n",
      "Epoch 71/100\n",
      "80/80 [==============================] - 0s 5ms/step - loss: 5.0369 - acc: 0.6875 - val_loss: 8.0590 - val_acc: 0.5000\n",
      "Epoch 72/100\n",
      "80/80 [==============================] - 0s 5ms/step - loss: 5.0369 - acc: 0.6875 - val_loss: 8.0590 - val_acc: 0.5000\n",
      "Epoch 73/100\n",
      "80/80 [==============================] - 0s 5ms/step - loss: 5.0369 - acc: 0.6875 - val_loss: 8.0590 - val_acc: 0.5000\n",
      "Epoch 74/100\n",
      "80/80 [==============================] - 0s 5ms/step - loss: 5.0369 - acc: 0.6875 - val_loss: 8.0590 - val_acc: 0.5000\n",
      "Epoch 75/100\n",
      "80/80 [==============================] - 0s 5ms/step - loss: 5.0369 - acc: 0.6875 - val_loss: 8.0590 - val_acc: 0.5000\n",
      "Epoch 76/100\n",
      "80/80 [==============================] - 0s 5ms/step - loss: 5.0369 - acc: 0.6875 - val_loss: 8.0590 - val_acc: 0.5000\n",
      "Epoch 77/100\n",
      "80/80 [==============================] - 0s 5ms/step - loss: 5.0369 - acc: 0.6875 - val_loss: 8.0590 - val_acc: 0.5000\n",
      "Epoch 78/100\n",
      "80/80 [==============================] - 0s 5ms/step - loss: 5.0369 - acc: 0.6875 - val_loss: 8.0590 - val_acc: 0.5000\n",
      "Epoch 79/100\n",
      "80/80 [==============================] - 0s 5ms/step - loss: 5.0369 - acc: 0.6875 - val_loss: 8.0590 - val_acc: 0.5000\n",
      "Epoch 80/100\n",
      "80/80 [==============================] - 1s 7ms/step - loss: 5.0369 - acc: 0.6875 - val_loss: 8.0590 - val_acc: 0.5000\n",
      "Epoch 81/100\n",
      "80/80 [==============================] - 1s 7ms/step - loss: 5.0369 - acc: 0.6875 - val_loss: 8.0590 - val_acc: 0.5000\n",
      "Epoch 82/100\n",
      "80/80 [==============================] - 0s 5ms/step - loss: 5.0369 - acc: 0.6875 - val_loss: 8.0590 - val_acc: 0.5000\n",
      "Epoch 83/100\n",
      "80/80 [==============================] - 1s 7ms/step - loss: 5.0369 - acc: 0.6875 - val_loss: 8.0590 - val_acc: 0.5000\n",
      "Epoch 84/100\n",
      "80/80 [==============================] - 0s 5ms/step - loss: 5.0369 - acc: 0.6875 - val_loss: 8.0590 - val_acc: 0.5000\n",
      "Epoch 85/100\n",
      "80/80 [==============================] - 1s 8ms/step - loss: 5.0369 - acc: 0.6875 - val_loss: 8.0590 - val_acc: 0.5000\n",
      "Epoch 86/100\n",
      "80/80 [==============================] - 0s 5ms/step - loss: 5.0369 - acc: 0.6875 - val_loss: 8.0590 - val_acc: 0.5000\n",
      "Epoch 87/100\n",
      "80/80 [==============================] - 0s 5ms/step - loss: 5.0369 - acc: 0.6875 - val_loss: 8.0590 - val_acc: 0.5000\n",
      "Epoch 88/100\n",
      "80/80 [==============================] - 0s 5ms/step - loss: 5.0369 - acc: 0.6875 - val_loss: 8.0590 - val_acc: 0.5000\n",
      "Epoch 89/100\n",
      "80/80 [==============================] - 0s 5ms/step - loss: 5.0369 - acc: 0.6875 - val_loss: 8.0590 - val_acc: 0.5000\n",
      "Epoch 90/100\n",
      "80/80 [==============================] - 1s 6ms/step - loss: 5.0369 - acc: 0.6875 - val_loss: 8.0590 - val_acc: 0.5000\n",
      "Epoch 91/100\n",
      "80/80 [==============================] - 0s 5ms/step - loss: 5.0369 - acc: 0.6875 - val_loss: 8.0590 - val_acc: 0.5000\n",
      "Epoch 92/100\n",
      "80/80 [==============================] - 0s 6ms/step - loss: 5.0369 - acc: 0.6875 - val_loss: 8.0590 - val_acc: 0.5000\n",
      "Epoch 93/100\n",
      "80/80 [==============================] - 0s 5ms/step - loss: 5.0369 - acc: 0.6875 - val_loss: 8.0590 - val_acc: 0.5000\n",
      "Epoch 94/100\n",
      "80/80 [==============================] - 0s 6ms/step - loss: 5.0369 - acc: 0.6875 - val_loss: 8.0590 - val_acc: 0.5000\n",
      "Epoch 95/100\n",
      "80/80 [==============================] - 0s 5ms/step - loss: 5.0369 - acc: 0.6875 - val_loss: 8.0590 - val_acc: 0.5000\n",
      "Epoch 96/100\n",
      "80/80 [==============================] - 0s 6ms/step - loss: 5.0369 - acc: 0.6875 - val_loss: 8.0590 - val_acc: 0.5000\n",
      "Epoch 97/100\n",
      "80/80 [==============================] - 0s 5ms/step - loss: 5.0369 - acc: 0.6875 - val_loss: 8.0590 - val_acc: 0.5000\n",
      "Epoch 98/100\n",
      "80/80 [==============================] - 0s 5ms/step - loss: 5.0369 - acc: 0.6875 - val_loss: 8.0590 - val_acc: 0.5000\n",
      "Epoch 99/100\n",
      "80/80 [==============================] - 0s 5ms/step - loss: 5.0369 - acc: 0.6875 - val_loss: 8.0590 - val_acc: 0.5000\n",
      "Epoch 100/100\n",
      "80/80 [==============================] - 0s 5ms/step - loss: 5.0369 - acc: 0.6875 - val_loss: 8.0590 - val_acc: 0.5000\n"
     ]
    },
    {
     "data": {
      "text/plain": [
       "<keras.callbacks.History at 0x117f5b710>"
      ]
     },
     "execution_count": 178,
     "metadata": {},
     "output_type": "execute_result"
    }
   ],
   "source": [
    "batch_size = 32\n",
    "epochs = 100\n",
    "model.fit(x_train, y_train,\n",
    "          batch_size=batch_size,\n",
    "          epochs=epochs,\n",
    "          verbose=1,\n",
    "          validation_data=(x_test, y_test))"
   ]
  },
  {
   "cell_type": "code",
   "execution_count": 179,
   "metadata": {},
   "outputs": [
    {
     "data": {
      "text/plain": [
       "array([0, 0, 0, 0, 0, 0, 0, 0, 0, 0, 0, 0, 0, 0, 0, 0, 0, 0, 0, 0, 0, 0,\n",
       "       0, 0, 0, 0, 0, 0, 0, 0, 0, 0, 0, 0, 0, 0, 0, 0, 0, 0, 0, 0, 0, 0,\n",
       "       0, 0, 0, 0, 0, 0, 0, 0, 0, 0, 0, 0, 0, 0, 0, 0, 0, 0, 0, 0, 0, 0,\n",
       "       0, 0, 0, 0, 0, 0, 0, 0, 0, 0, 0, 0, 0, 0])"
      ]
     },
     "execution_count": 179,
     "metadata": {},
     "output_type": "execute_result"
    }
   ],
   "source": [
    "model.predict_classes(x_train)"
   ]
  },
  {
   "cell_type": "code",
   "execution_count": null,
   "metadata": {},
   "outputs": [],
   "source": []
  }
 ],
 "metadata": {
  "kernelspec": {
   "display_name": "Python 3",
   "language": "python",
   "name": "python3"
  },
  "language_info": {
   "codemirror_mode": {
    "name": "ipython",
    "version": 3
   },
   "file_extension": ".py",
   "mimetype": "text/x-python",
   "name": "python",
   "nbconvert_exporter": "python",
   "pygments_lexer": "ipython3",
   "version": "3.6.6"
  }
 },
 "nbformat": 4,
 "nbformat_minor": 2
}
